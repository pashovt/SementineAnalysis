{
 "cells": [
  {
   "cell_type": "markdown",
   "metadata": {},
   "source": [
    "<h1><center>Notebook for the 303COM Individual project algorithmic implementaion</center></h1>\n",
    "<h3><center>Comparison of sentiment analysis algorithms used to find a correlation between the language used on Twitter and a successful candidate in presidential elections in the US.</center></h3>"
   ]
  },
  {
   "cell_type": "markdown",
   "metadata": {},
   "source": [
    "_Anita Tsoneva_\n",
    "\n",
    "[https://github.coventry.ac.uk/tsoneva2/303COM](https://github.coventry.ac.uk/tsoneva2/303COM)"
   ]
  },
  {
   "cell_type": "markdown",
   "metadata": {},
   "source": [
    "# Intoduction and contents"
   ]
  },
  {
   "cell_type": "markdown",
   "metadata": {},
   "source": [
    "This notebook contains the practical development and comparion of the algorithms described in the study. Each alogrithm will have a justification, implementation and testing cases. \n",
    "\n",
    "The contents of this file are as follows.\n",
    "\n",
    "- **Intoduction**\n",
    "- **Algorithm 1 - Lexicon based approach**\n",
    "- **Algorithm 2 - Decision Tree (DT)**\n",
    "- **Algorithm 3 - Support Vector Machine (SVM)**\n",
    "- **Algorithm 4 - K-Nearest Neighbour (KNN)**\n",
    "- **Discussion of findings**\n",
    "- **References**"
   ]
  },
  {
   "cell_type": "markdown",
   "metadata": {},
   "source": [
    "# Algorithm 1 - Lexicon based approach\n",
    "-----"
   ]
  },
  {
   "cell_type": "markdown",
   "metadata": {},
   "source": [
    "The idea is to:\n",
    "- dsdscs $0$ assdsdsdsst.\n",
    "- fdefd.\n",
    "    -  fdfcdfdt dsfdd.\n",
    "    \n",
    "    http://downloads.hindawi.com/journals/wcmc/2018/9839432.pdf\n",
    "    https://preventviolentextremism.info/sites/default/files/A%20Lexicon-Based%20Approach%20for%20Hate%20Speech%20Detection.pdf\n",
    "    https://alphabold.com/sentiment-analysis-the-lexicon-based-approach/\n",
    "    file:///C:/Users/user1/Downloads/Lexicon-BasedSentimentAnalysisintheSocialWeb-JBasicApplSciRes46238-2482014ISSN2090-4304.pdf\n",
    "\n",
    "More details to the implementation of the lexicon based sentiment classification can be found in (Gitari et al., 2015).\n",
    "\n",
    "More formally, the pseudo-code is as follows:\n",
    "\n",
    "**Input**: Twitter dataset.\n",
    "\n",
    "**Output**: number of negative words"
   ]
  },
  {
   "cell_type": "markdown",
   "metadata": {},
   "source": [
    "1. $count\\gets 0$\n",
    "2. $sentence\\gets d$\n",
    "3. **while** dataset $d$ not equal $0$ **do**\n",
    "4. $sentence$ $c\\gets$ split($d$)\n",
    "5. $word$ $c\\gets$ split($sentence$)\n",
    "5. $sentence$ $c\\gets$ split($d$)\n",
    "6. $lex$ $c\\gets$ $''$ // $training dataset$ \n",
    "3. $\\quad$**for each** sentence in $d$ **do**\n",
    "3. $\\quad$$\\quad$ **for each** word in sentence **do**\n",
    "4. $\\quad$$\\quad$$\\quad$ $c\\gets$ cost of $p$\n",
    "2. $\\quad$$\\quad$$\\quad$ **if** word equal to $lex$ **then**\n",
    "3. $\\quad$$\\quad$$\\quad$$\\quad$ $count++$\n",
    "2. $\\quad$$\\quad$ $\\quad$$\\quad$**if** $d$ equal to $0$ **then**\n",
    "3. $\\quad$$\\quad$ $\\quad$$\\quad$$\\quad$$Output count$\n",
    "4. $\\quad$$\\quad$ $\\quad$$\\quad$**end if**\n",
    "4. $\\quad$$\\quad$$\\quad$ **end if**\n",
    "5. $\\quad$$\\quad$**end for**\n",
    "5. $\\quad$**end for**\n",
    "\n",
    "5. **end while**"
   ]
  },
  {
   "cell_type": "markdown",
   "metadata": {},
   "source": [
    "# Code"
   ]
  },
  {
   "cell_type": "markdown",
   "metadata": {},
   "source": [
    "# Testing methodology"
   ]
  },
  {
   "cell_type": "markdown",
   "metadata": {},
   "source": [
    "* **Exact methods**:\n",
    "    Average time for instances with increasing $n$.\n",
    "\n",
    "* **Greedy and meta-heuristics**:\n",
    "    Average \"quality\" as $n$ increases.\n"
   ]
  },
  {
   "cell_type": "markdown",
   "metadata": {},
   "source": [
    "# Algorithm 2 - Decision Tree (DT)\n",
    "-----"
   ]
  },
  {
   "cell_type": "markdown",
   "metadata": {},
   "source": [
    "## Mathematical Justification"
   ]
  },
  {
   "cell_type": "markdown",
   "metadata": {},
   "source": [
    "DT reseourse - https://www.youtube.com/watch?v=LDRbO9a6XPU"
   ]
  },
  {
   "cell_type": "markdown",
   "metadata": {},
   "source": [
    "## Pseudocode"
   ]
  },
  {
   "cell_type": "markdown",
   "metadata": {},
   "source": [
    "## O Notation"
   ]
  },
  {
   "cell_type": "markdown",
   "metadata": {},
   "source": [
    "## Code"
   ]
  },
  {
   "cell_type": "markdown",
   "metadata": {},
   "source": [
    "## Testing"
   ]
  },
  {
   "cell_type": "markdown",
   "metadata": {},
   "source": [
    "# Algorithm 3 - Support Vector Machine (SVM)\n",
    "-----\n",
    "\n",
    "As explained in the literature review SVM is an algorithm that determines where the boundary between a given group of sentiment is. The Support Vector Machine can be linear (SVM) and non-linear (N-SVM) and that is determined by the type of the hyperplane dividing the dataset."
   ]
  },
  {
   "cell_type": "markdown",
   "metadata": {},
   "source": [
    "## Mathematical Justification\n",
    "\n",
    "Given the training dataset \n",
    "The SVM can be mathematically defined with the following equation.\n",
    "\n",
    "> $ (x_{1}, y_{1}),....,(x_{n}, y_{n})\n",
    "\n"
   ]
  },
  {
   "cell_type": "code",
   "execution_count": null,
   "metadata": {},
   "outputs": [],
   "source": [
    "from IPython.display import Image\n",
    "Image(filename='img/SVM.png', width=300, height=200)"
   ]
  },
  {
   "cell_type": "markdown",
   "metadata": {},
   "source": [
    "## Pseudocode\n",
    "\n"
   ]
  },
  {
   "cell_type": "markdown",
   "metadata": {},
   "source": [
    "## O Notation"
   ]
  },
  {
   "cell_type": "markdown",
   "metadata": {},
   "source": [
    "## Code"
   ]
  },
  {
   "cell_type": "markdown",
   "metadata": {},
   "source": [
    "## Testing\n",
    "\n",
    "https://medium.com/@ankitnitjsr13/math-behind-support-vector-machine-svm-5e7376d0ee4d\n"
   ]
  },
  {
   "cell_type": "markdown",
   "metadata": {},
   "source": [
    "# Algorithm 4 - K-Nearest Neighbour (KNN)\n",
    "-----"
   ]
  },
  {
   "cell_type": "markdown",
   "metadata": {},
   "source": [
    "## Mathematical Justification"
   ]
  },
  {
   "attachments": {},
   "cell_type": "markdown",
   "metadata": {},
   "source": [
    "Classifing the adjecent words in terms of positivity or negetivity can be described as concept.\n",
    "kNN is used for find concepts in  the enourmas amount of dataset samples.\n",
    "\n",
    "More advanced options of the kNN algorithm include the use of OCR for text recognision of hardwriting or image/scan processing.\n",
    "\n",
    "How does it work?\n"
   ]
  },
  {
   "cell_type": "code",
   "execution_count": null,
   "metadata": {},
   "outputs": [],
   "source": [
    "# from IPython.display import Image\n",
    "# Image(filename='img/SVM.png', width=300, height=200)\n",
    "\n",
    "from IPython.display import Image\n",
    "Image(filename='')\n"
   ]
  },
  {
   "cell_type": "code",
   "execution_count": null,
   "metadata": {},
   "outputs": [],
   "source": [
    "ls"
   ]
  },
  {
   "cell_type": "markdown",
   "metadata": {},
   "source": [
    "https://www.analyticsvidhya.com/blog/2018/03/introduction-k-neighbours-algorithm-clustering/"
   ]
  },
  {
   "cell_type": "markdown",
   "metadata": {},
   "source": [
    "## Pseudocode"
   ]
  },
  {
   "cell_type": "markdown",
   "metadata": {},
   "source": [
    "## O Notation"
   ]
  },
  {
   "cell_type": "markdown",
   "metadata": {},
   "source": [
    "## Code"
   ]
  },
  {
   "cell_type": "markdown",
   "metadata": {},
   "source": [
    "## Testing"
   ]
  },
  {
   "cell_type": "markdown",
   "metadata": {},
   "source": [
    "# Discussion of findings\n",
    "-----"
   ]
  },
  {
   "cell_type": "markdown",
   "metadata": {},
   "source": [
    "First start by importing relevant libraries."
   ]
  },
  {
   "cell_type": "code",
   "execution_count": 2,
   "metadata": {
    "collapsed": true,
    "jupyter": {
     "outputs_hidden": true
    }
   },
   "outputs": [],
   "source": [
    "from random import randint, choice\n",
    "from pprint import pprint\n",
    "from itertools import permutations\n",
    "from math import inf as oo # Infinity (∞) is larger than any number\n",
    "from math import sqrt\n",
    "from time      import time\n",
    "import matplotlib.pyplot as plt\n",
    "import copy"
   ]
  },
  {
   "cell_type": "markdown",
   "metadata": {},
   "source": [
    "## Basics"
   ]
  },
  {
   "cell_type": "markdown",
   "metadata": {},
   "source": [
    "Let the set of vertices be $\\{0, 1, 2,\\ldots, n-1\\}$.\n",
    "\n",
    "Without loss of generality, we can consider $0$ to be the start and end point of cycles."
   ]
  },
  {
   "cell_type": "code",
   "execution_count": 9,
   "metadata": {},
   "outputs": [],
   "source": [
    "MAX_DISTANCE = 100\n",
    "\n",
    "def random_symmetric_graph(n):\n",
    "    ''' Symmetric adjacency matrix of size nxn '''\n",
    "    dist_matrix = [[oo for _ in range(n)] for _ in range(n)]\n",
    "    for i in range(n):\n",
    "        for j in range(i+1,n):\n",
    "            v = randint(1,MAX_DISTANCE)\n",
    "            dist_matrix[i][j] = v\n",
    "            dist_matrix[j][i] = v\n",
    "    return dist_matrix\n",
    "\n",
    "def random_euclidean_graph(n):\n",
    "    ''' Symmetric adjacency matrix of a Euclidean graph of size nxn '''\n",
    "    dist_matrix = [[oo for _ in range(n)] for _ in range(n)]\n",
    "    points = []\n",
    "    for p in range(n):\n",
    "        x,y = randint(0,MAX_DISTANCE), randint(0,MAX_DISTANCE)\n",
    "        points.append((x,y))\n",
    "    for i in range(n):\n",
    "        p1 = points[i]\n",
    "        for j in range(i+1,n):\n",
    "            p2 = points[j]\n",
    "            distance = sqrt((p1[0]-p2[0])**2+(p1[1]-p2[1])**2)\n",
    "            dist_matrix[i][j] = distance\n",
    "            dist_matrix[j][i] = distance\n",
    "    return dist_matrix\n",
    "\n",
    "def show(G):\n",
    "    ''' Show adjacency matrix. Useful for debugging. '''\n",
    "    n = len(G)\n",
    "    r = \"     \"\n",
    "    for i in range(n):\n",
    "        r += f'{i:4}'\n",
    "    r += '\\n    -'+'-'*(4*n)+'\\n'\n",
    "    for i in range(n):\n",
    "        r += f'{i:2} | '\n",
    "        for j in range(n):\n",
    "            r += f'{G[i][j]:4}'\n",
    "        r += '\\n'\n",
    "    r = r.replace('inf', '  ∞')\n",
    "    print(r)\n",
    "\n",
    "def cost(G, cycle):\n",
    "    ''' Calculate the cost of the given cycle '''\n",
    "    c = 0\n",
    "    n = len(G)\n",
    "    for i in range(n):\n",
    "        a = cycle[i]\n",
    "        b = cycle[(i+1)%n]\n",
    "        c += G[a][b]\n",
    "    return c"
   ]
  },
  {
   "cell_type": "code",
   "execution_count": 11,
   "metadata": {},
   "outputs": [
    {
     "name": "stdout",
     "output_type": "stream",
     "text": [
      "        0   1   2   3   4\n",
      "    ---------------------\n",
      " 0 |    ∞63.19810123729984524.04163056034261545.011109739707630.0\n",
      " 1 | 63.198101237299845   ∞50.9901951359278518.97366596101027653.53503525729669\n",
      " 2 | 24.04163056034261550.99019513592785   ∞32.24903099319427.0710678118654755\n",
      " 3 | 45.011109739707618.97366596101027632.2490309931942   ∞35.4682957019364\n",
      " 4 | 30.053.535035257296697.071067811865475535.4682957019364   ∞\n",
      "\n"
     ]
    }
   ],
   "source": [
    "G=random_euclidean_graph(5)\n",
    "show(G)"
   ]
  },
  {
   "cell_type": "markdown",
   "metadata": {},
   "source": [
    "### Example"
   ]
  },
  {
   "cell_type": "code",
   "execution_count": 12,
   "metadata": {},
   "outputs": [
    {
     "name": "stdout",
     "output_type": "stream",
     "text": [
      "        0   1   2   3   4\n",
      "    ---------------------\n",
      " 0 |    ∞  12  19  68  74\n",
      " 1 |   12   ∞  91  29   6\n",
      " 2 |   19  91   ∞  50  55\n",
      " 3 |   68  29  50   ∞  88\n",
      " 4 |   74   6  55  88   ∞\n",
      "\n"
     ]
    }
   ],
   "source": [
    "G=random_symmetric_graph(5)\n",
    "show(G)"
   ]
  },
  {
   "cell_type": "markdown",
   "metadata": {},
   "source": [
    "# Solution methods"
   ]
  },
  {
   "cell_type": "markdown",
   "metadata": {},
   "source": [
    "## Exact methods - Exhaustive search"
   ]
  },
  {
   "cell_type": "markdown",
   "metadata": {},
   "source": [
    "The idea is to:\n",
    "- Consider vertex $0$ as the start and end point.\n",
    "- Iterate over all permutations of the vertices $\\{1,2,\\ldots, n-1\\}$.\n",
    "    -  Calculate cost of each permutation and keep track of minimum cost permutation.\n",
    "- Return the cycle with minimum cost.\n",
    "\n",
    "More formally, the pseudo-code is as follows:\n",
    "\n",
    "**Input**: $G$.\n",
    "\n",
    "**Output**: a cycle in $G$ of shortest cost."
   ]
  },
  {
   "cell_type": "markdown",
   "metadata": {},
   "source": [
    "1. $bestcycle\\gets \\emptyset$\n",
    "2. $bestcost\\gets \\infty$\n",
    "3. **for all** possible cycles $p$ in $G$ (starting and ending at $0$) **do**\n",
    "4. $\\quad$ $c\\gets$ cost of $p$\n",
    "2. $\\quad$ **if** $c<bestcost$ **then**\n",
    "3. $\\qquad$ $bestcycle\\gets p$\n",
    "3. $\\qquad$ $bestcost\\gets c$\n",
    "4. $\\quad$ **end if**\n",
    "5. **end for**\n",
    "6. **return** $bestcycle, bestcost$"
   ]
  },
  {
   "cell_type": "markdown",
   "metadata": {},
   "source": [
    "There are $(n-1)!$ possible cycles, and each computation of a cycle's cost costs $O(n)$. So this algorithm costs $$O((n-1)!\\cdot n)=O(n!).$$"
   ]
  },
  {
   "cell_type": "code",
   "execution_count": 13,
   "metadata": {
    "collapsed": true,
    "jupyter": {
     "outputs_hidden": true
    }
   },
   "outputs": [],
   "source": [
    "def exhaustive_search(G):\n",
    "    n = len(G)    \n",
    "    best_cost = oo # infinity\n",
    "    best_cycle = []\n",
    "    for cycle in permutations(range(1,n)): # permutations of [1,2,...,n-1]\n",
    "        cycle=[0]+list(cycle)              # add the starting city: 0\n",
    "        c = cost(G, cycle)\n",
    "        if c < best_cost:\n",
    "            best_cost = c\n",
    "            best_cycle = cycle\n",
    "    return (best_cycle, best_cost)"
   ]
  },
  {
   "cell_type": "markdown",
   "metadata": {},
   "source": [
    "## Testing exhaustive search time cost"
   ]
  },
  {
   "cell_type": "markdown",
   "metadata": {},
   "source": [
    "Test completely random graphs:"
   ]
  },
  {
   "cell_type": "code",
   "execution_count": 5,
   "metadata": {},
   "outputs": [
    {
     "name": "stdout",
     "output_type": "stream",
     "text": [
      "8\t0.02001166343688965\n",
      "9\t0.12252664566040039\n",
      "10\t1.4062316417694092\n"
     ]
    }
   ],
   "source": [
    "pnts_n = []\n",
    "pnts_t = []\n",
    "\n",
    "n  = 8\n",
    "t0 = t1 = 0\n",
    "\n",
    "while t1-t0<1: # in seconds; if it takes too long then stop testing\n",
    "    G = random_symmetric_graph(n)\n",
    "    t0 = time()\n",
    "    exhaustive_search(G)\n",
    "    t1 = time()\n",
    "    # record time\n",
    "    print( f\"{n}\\t{t1-t0}\" )\n",
    "    pnts_n.append( n )\n",
    "    pnts_t.append( t1-t0 )\n",
    "    n += 1"
   ]
  },
  {
   "cell_type": "markdown",
   "metadata": {},
   "source": [
    "Let us plot this data to see it visually."
   ]
  },
  {
   "cell_type": "code",
   "execution_count": 6,
   "metadata": {},
   "outputs": [
    {
     "data": {
      "image/png": "[encoded data removed]",
      "text/plain": [
       "<Figure size 432x288 with 1 Axes>"
      ]
     },
     "metadata": {
      "needs_background": "light"
     },
     "output_type": "display_data"
    }
   ],
   "source": [
    "plt.plot(pnts_n, pnts_t, 'ro-')\n",
    "plt.show()"
   ]
  },
  {
   "cell_type": "markdown",
   "metadata": {},
   "source": [
    "Let us see if the emperical times match the theoretical $O(n!)$ expectation.\n",
    "\n",
    "`pnts_t[i]` contains the time for `pnts_n[i]`, so we expect $\\text{pnts_t[i]} \\approx \\text{pnts_n[i]}!$.\n",
    "Hence, we must have\n",
    "\n",
    "$$\n",
    "\\frac{\\text{pnts_t[i]}}{\\text{pnts_t[i-1]}} \\approx \\frac{i!}{(i-1)!} = i.\n",
    "$$"
   ]
  },
  {
   "cell_type": "code",
   "execution_count": 7,
   "metadata": {},
   "outputs": [
    {
     "data": {
      "image/png": "[encoded data removed]",
      "text/plain": [
       "<Figure size 432x288 with 1 Axes>"
      ]
     },
     "metadata": {
      "needs_background": "light"
     },
     "output_type": "display_data"
    }
   ],
   "source": [
    "pnts_ratios = [pnts_t[i]/pnts_t[i-1] for i in range(1,len(pnts_n))]\n",
    "plt.plot(pnts_n[:-1], pnts_ratios, 'ro-')\n",
    "plt.plot(pnts_n,pnts_n,'b-') # theoretical ratios\n",
    "plt.show()"
   ]
  },
  {
   "cell_type": "code",
   "execution_count": 14,
   "metadata": {},
   "outputs": [
    {
     "name": "stdout",
     "output_type": "stream",
     "text": [
      "8\t0.011517763137817383\n",
      "9\t0.08803129196166992\n",
      "10\t0.8997573852539062\n",
      "11\t9.502121210098267\n"
     ]
    }
   ],
   "source": [
    "pnts_n = []\n",
    "pnts_t = []\n",
    "\n",
    "n  = 8\n",
    "t0 = t1 = 0\n",
    "\n",
    "while t1-t0<1: # in seconds; if it takes too long then stop testing\n",
    "    G = random_euclidean_graph(n)\n",
    "    t0 = time()\n",
    "    exhaustive_search(G)\n",
    "    t1 = time()\n",
    "    # record time\n",
    "    print( f\"{n}\\t{t1-t0}\" )\n",
    "    pnts_n.append( n )\n",
    "    pnts_t.append( t1-t0 )\n",
    "    n += 1"
   ]
  },
  {
   "cell_type": "code",
   "execution_count": 15,
   "metadata": {},
   "outputs": [
    {
     "data": {
      "image/png": "[encoded data removed]",
      "text/plain": [
       "<matplotlib.figure.Figure at 0x24f86844d68>"
      ]
     },
     "metadata": {},
     "output_type": "display_data"
    }
   ],
   "source": [
    "plt.plot(pnts_n, pnts_t, 'ro-')\n",
    "plt.show()"
   ]
  },
  {
   "cell_type": "markdown",
   "metadata": {},
   "source": [
    "### Discussion"
   ]
  },
  {
   "cell_type": "markdown",
   "metadata": {},
   "source": [
    "* Exhaustive search exhibits combinatorial running time $O(n!)$:\n",
    "* So it is only useful/possible when $n$ is small, up to about 13 on the current machine if it needs to finish within an hour."
   ]
  },
  {
   "cell_type": "markdown",
   "metadata": {},
   "source": [
    "# Approximation"
   ]
  },
  {
   "cell_type": "markdown",
   "metadata": {},
   "source": [
    "## Greedy search"
   ]
  },
  {
   "cell_type": "markdown",
   "metadata": {},
   "source": [
    "##### Nearest neigbours"
   ]
  },
  {
   "cell_type": "code",
   "execution_count": 16,
   "metadata": {
    "collapsed": true,
    "jupyter": {
     "outputs_hidden": true
    }
   },
   "outputs": [],
   "source": [
    "def greedy_nearest_neighbours(G):\n",
    "    H = copy.deepcopy(G) # We need the original G. We work on/modify H\n",
    "    n = len(H)\n",
    "    cities = list(range(n))\n",
    "    cycle = [] # solution to be built\n",
    "    city = 0 # Start city\n",
    "    while len(cities)>0:\n",
    "        # Find nearest neighbour\n",
    "        city_neighbours = H[city]\n",
    "        smallest_distance = min(city_neighbours)\n",
    "        nearest_city = city_neighbours.index(smallest_distance)\n",
    "        # Update 'cycle' and 'cities' and H then 'city'\n",
    "        cycle.append(city)\n",
    "        cities.remove(city)\n",
    "        for i in range(n): # 'city' is not to be used again!\n",
    "            H[city][i] = oo\n",
    "            H[i][city] = oo\n",
    "        city = nearest_city\n",
    "    return (cycle, cost(G, cycle))"
   ]
  },
  {
   "cell_type": "markdown",
   "metadata": {},
   "source": [
    "The while-loop costs $O(n)$, and the nested for-loop within it also costs $O(n)$, while the rest can be assumed to cost $O(1)$.\n",
    "So the total cost of this greedy approach is $O(n)\\times O(n) = O(n^2)$."
   ]
  },
  {
   "cell_type": "markdown",
   "metadata": {},
   "source": [
    "### Example"
   ]
  },
  {
   "cell_type": "code",
   "execution_count": 17,
   "metadata": {},
   "outputs": [
    {
     "name": "stdout",
     "output_type": "stream",
     "text": [
      "        0   1   2   3\n",
      "    -----------------\n",
      " 0 |    ∞  44  50  62\n",
      " 1 |   44   ∞  70  51\n",
      " 2 |   50  70   ∞  13\n",
      " 3 |   62  51  13   ∞\n",
      "\n"
     ]
    },
    {
     "data": {
      "text/plain": [
       "([0, 1, 3, 2], 158)"
      ]
     },
     "execution_count": 17,
     "metadata": {},
     "output_type": "execute_result"
    }
   ],
   "source": [
    "G=random_symmetric_graph(4)\n",
    "show(G)\n",
    "greedy_nearest_neighbours(G)"
   ]
  },
  {
   "cell_type": "code",
   "execution_count": 18,
   "metadata": {},
   "outputs": [
    {
     "name": "stdout",
     "output_type": "stream",
     "text": [
      "        0   1   2   3\n",
      "    -----------------\n",
      " 0 |    ∞114.3372205364464877.0778826901725482.38931969618392\n",
      " 1 | 114.33722053644648   ∞38.0788655293195496.42095207992918\n",
      " 2 | 77.0778826901725438.07886552931954   ∞68.94200461257273\n",
      " 3 | 82.3893196961839296.4209520799291868.94200461257273   ∞\n",
      "\n"
     ]
    },
    {
     "data": {
      "text/plain": [
       "([0, 2, 1, 3], 293.9670199956052)"
      ]
     },
     "execution_count": 18,
     "metadata": {},
     "output_type": "execute_result"
    }
   ],
   "source": [
    "G=random_euclidean_graph(4)\n",
    "show(G)\n",
    "greedy_nearest_neighbours(G)"
   ]
  },
  {
   "cell_type": "markdown",
   "metadata": {},
   "source": [
    "### Test time and quality cost"
   ]
  },
  {
   "cell_type": "markdown",
   "metadata": {},
   "source": [
    "We will initially estimate the \"quality\" simply by comparing the length of the cycle found by the greed approach to the \"average length of a random cycle\".\n",
    "\n",
    "The average length of a random cycle is estimated to be the average length of a graph edge multiplied by the number of edges, i.e.\n",
    "\n",
    "$$\\frac{\\text{MAX_DISTANCE}}{2} \\times n.$$"
   ]
  },
  {
   "cell_type": "code",
   "execution_count": 23,
   "metadata": {},
   "outputs": [
    {
     "name": "stdout",
     "output_type": "stream",
     "text": [
      "10\t0.0496525764465332\t0.5082679999999999\n",
      "20\t0.1907353401184082\t0.319404\n",
      "30\t0.3874533176422119\t0.24130666666666664\n",
      "40\t0.7231287956237793\t0.19880899999999999\n",
      "50\t1.103902816772461\t0.1685712\n",
      "60\t1.5338325500488281\t0.14980266666666667\n",
      "70\t1.8535380363464355\t0.13568571428571427\n",
      "80\t2.7287096977233887\t0.123572\n",
      "90\t3.5187318325042725\t0.11156755555555554\n",
      "100\t4.073294162750244\t0.10502280000000001\n",
      "110\t4.978093862533569\t0.09801854545454546\n",
      "120\t6.004432439804077\t0.092656\n",
      "130\t7.973381757736206\t0.087268\n",
      "140\t8.291640758514404\t0.08288485714285714\n",
      "150\t8.916183471679688\t0.0789024\n",
      "160\t10.312152862548828\t0.07590525\n"
     ]
    }
   ],
   "source": [
    "MAX_REPETITIONS = 500\n",
    "\n",
    "pnts_n = []\n",
    "pnts_t = []\n",
    "pnts_q = []\n",
    "\n",
    "n = 10\n",
    "t = 0\n",
    "\n",
    "while t<10: # in seconds; if it takes too long then stop testing\n",
    "    t = 0\n",
    "    expected_cycle_length = (MAX_DISTANCE/2)*n # TODO: Better estimate?\n",
    "    sum_of_distances = 0\n",
    "    for repetitions in range(MAX_REPETITIONS):\n",
    "        G = random_symmetric_graph(n)\n",
    "        t0 = time()\n",
    "        cycle, length = greedy_nearest_neighbours(G)\n",
    "        t1 = time()\n",
    "        sum_of_distances += length\n",
    "        t += t1-t0\n",
    "    # record time and quality\n",
    "    q = (sum_of_distances/MAX_REPETITIONS)/expected_cycle_length\n",
    "    pnts_n.append( n )\n",
    "    pnts_t.append( t )\n",
    "    pnts_q.append( q )\n",
    "    print( f\"{n}\\t{t}\\t{q}\" )\n",
    "    n += 10"
   ]
  },
  {
   "cell_type": "code",
   "execution_count": 24,
   "metadata": {},
   "outputs": [
    {
     "data": {
      "image/png": "[encoded data removed]",
      "text/plain": [
       "<matplotlib.figure.Figure at 0x24f870a6940>"
      ]
     },
     "metadata": {},
     "output_type": "display_data"
    }
   ],
   "source": [
    "plt.plot(pnts_n, pnts_t, 'ro-')\n",
    "plt.show()"
   ]
  },
  {
   "cell_type": "code",
   "execution_count": 25,
   "metadata": {},
   "outputs": [
    {
     "data": {
      "image/png": "[encoded data removed]",
      "text/plain": [
       "<matplotlib.figure.Figure at 0x24f8710d6a0>"
      ]
     },
     "metadata": {},
     "output_type": "display_data"
    }
   ],
   "source": [
    "plt.plot(pnts_n, pnts_q, 'ro-')\n",
    "plt.show()"
   ]
  },
  {
   "cell_type": "code",
   "execution_count": 19,
   "metadata": {},
   "outputs": [
    {
     "name": "stdout",
     "output_type": "stream",
     "text": [
      "10\t0.06430292129516602\t143.42119902704604\n",
      "20\t0.17042922973632812\t142.83896438342083\n",
      "30\t0.48963046073913574\t142.04123881625168\n",
      "40\t0.776923418045044\t141.14993333691754\n",
      "50\t1.0704421997070312\t140.34975785979168\n",
      "60\t1.514561414718628\t140.55813580788916\n",
      "70\t2.0883636474609375\t138.78251853848585\n",
      "80\t2.5483763217926025\t138.66092482047029\n",
      "90\t3.320828914642334\t137.51922662536322\n",
      "100\t4.0691139698028564\t138.2574686102402\n",
      "110\t4.8069376945495605\t137.42881961473122\n",
      "120\t5.977138519287109\t137.11342466295704\n"
     ]
    }
   ],
   "source": [
    "MAX_REPETITIONS = 500\n",
    "\n",
    "pnts_n = []\n",
    "pnts_t = []\n",
    "pnts_q = []\n",
    "\n",
    "n = 10\n",
    "t = 0\n",
    "\n",
    "while t<5: # in seconds; if it takes too long then stop testing\n",
    "    t = 0\n",
    "    expected_cycle_length = 0.71*sqrt(n) # TODO: Better estimate?\n",
    "    sum_of_distances = 0\n",
    "    for repetitions in range(MAX_REPETITIONS):\n",
    "        G = random_euclidean_graph(n)\n",
    "        t0 = time()\n",
    "        cycle, length = greedy_nearest_neighbours(G)\n",
    "        t1 = time()\n",
    "        sum_of_distances += length\n",
    "        t += t1-t0\n",
    "    # record time and quality\n",
    "    q = (sum_of_distances/MAX_REPETITIONS)/expected_cycle_length\n",
    "    pnts_n.append( n )\n",
    "    pnts_t.append( t )\n",
    "    pnts_q.append( q )\n",
    "    print( f\"{n}\\t{t}\\t{q}\" )\n",
    "    n += 10"
   ]
  },
  {
   "cell_type": "code",
   "execution_count": 20,
   "metadata": {},
   "outputs": [
    {
     "data": {
      "image/png": "[encoded data removed]",
      "text/plain": [
       "<matplotlib.figure.Figure at 0x24f8382db38>"
      ]
     },
     "metadata": {},
     "output_type": "display_data"
    }
   ],
   "source": [
    "plt.plot(pnts_n, pnts_t, 'ro-')\n",
    "plt.show()"
   ]
  },
  {
   "cell_type": "code",
   "execution_count": 22,
   "metadata": {},
   "outputs": [
    {
     "data": {
      "image/png": "[encoded data removed]",
      "text/plain": [
       "<matplotlib.figure.Figure at 0x24f870031d0>"
      ]
     },
     "metadata": {},
     "output_type": "display_data"
    }
   ],
   "source": [
    "plt.plot(pnts_n, pnts_q, 'ro-')\n",
    "plt.show()"
   ]
  },
  {
   "cell_type": "markdown",
   "metadata": {},
   "source": [
    "## Metaheuristics"
   ]
  },
  {
   "cell_type": "markdown",
   "metadata": {},
   "source": [
    "What are metaheuristics? Why are we tackling them? What is the aim of this section?"
   ]
  },
  {
   "cell_type": "markdown",
   "metadata": {},
   "source": [
    "## Metaheuristics - Genetic Algorithm"
   ]
  },
  {
   "cell_type": "markdown",
   "metadata": {},
   "source": [
    "### What Is The Genetic Algorithm?"
   ]
  },
  {
   "cell_type": "markdown",
   "metadata": {},
   "source": [
    "High-level explanation.\n",
    "Why did we choose this algorithm?\n",
    "> Mathematical justification."
   ]
  },
  {
   "cell_type": "markdown",
   "metadata": {},
   "source": [
    "### Pseudocode"
   ]
  },
  {
   "cell_type": "markdown",
   "metadata": {},
   "source": [
    "-----\n",
    "\n",
    "**Algorithm 1**: Genetic Algorithm\n",
    "\n",
    "**Input**: Define the input\n",
    "\n",
    "**Output**: Define the output\n",
    "\n",
    "------"
   ]
  },
  {
   "cell_type": "markdown",
   "metadata": {},
   "source": [
    "##### Example Pseudocode - completely different algorithm - just use for formatting\n",
    "1. $bestcycle\\gets \\emptyset$\n",
    "2. $bestcost\\gets \\infty$\n",
    "3. **for all** possible cycles $p$ in $G$ (starting and ending at $0$) **do**\n",
    "4. $\\quad$ $c\\gets$ cost of $p$\n",
    "2. $\\quad$ **if** $c<bestcost$ **then**\n",
    "3. $\\qquad$ $bestcycle\\gets p$\n",
    "3. $\\qquad$ $bestcost\\gets c$\n",
    "4. $\\quad$ **end if**\n",
    "5. **end for**\n",
    "6. **return** $bestcycle, bestcost$"
   ]
  },
  {
   "cell_type": "markdown",
   "metadata": {},
   "source": [
    "### O Notation"
   ]
  },
  {
   "cell_type": "markdown",
   "metadata": {},
   "source": [
    "What is O Notation?\n",
    "\n",
    "How was it calculated from the Pseudocode?"
   ]
  },
  {
   "cell_type": "markdown",
   "metadata": {},
   "source": [
    "### Implementation"
   ]
  },
  {
   "cell_type": "markdown",
   "metadata": {},
   "source": [
    "How was this implemented?\n"
   ]
  },
  {
   "cell_type": "markdown",
   "metadata": {},
   "source": [
    "#### Inputs"
   ]
  },
  {
   "cell_type": "markdown",
   "metadata": {},
   "source": [
    "#### Code "
   ]
  },
  {
   "cell_type": "code",
   "execution_count": 11,
   "metadata": {},
   "outputs": [
    {
     "name": "stdout",
     "output_type": "stream",
     "text": [
      "Hello Assignment World!\n",
      "Genetic Algorithm Code Here...\n"
     ]
    }
   ],
   "source": [
    "# Python Code Goes Herel\n",
    "print(\"Hello Assignment World!\")\n",
    "print(\"Genetic Algorithm Code Here...\")"
   ]
  },
  {
   "cell_type": "markdown",
   "metadata": {},
   "source": [
    "Is there anything unique about our code? Anything to comment on?"
   ]
  },
  {
   "cell_type": "markdown",
   "metadata": {},
   "source": [
    "### Data / Results"
   ]
  },
  {
   "cell_type": "markdown",
   "metadata": {},
   "source": [
    "Produce some graphs etc. to show how well it worked."
   ]
  },
  {
   "cell_type": "markdown",
   "metadata": {},
   "source": [
    "## Metaheuristics - Simulated Annealing"
   ]
  },
  {
   "cell_type": "markdown",
   "metadata": {},
   "source": [
    "### What Is The Simulated Annealing Algorithm?"
   ]
  },
  {
   "cell_type": "markdown",
   "metadata": {},
   "source": [
    "High-level explanation.\n",
    "Why did we choose this algorithm?\n",
    "> Mathematical justification."
   ]
  },
  {
   "cell_type": "markdown",
   "metadata": {},
   "source": [
    "### Pseudocode"
   ]
  },
  {
   "cell_type": "markdown",
   "metadata": {},
   "source": [
    "-----\n",
    "\n",
    "**Algorithm 1**: Genetic Algorithm\n",
    "\n",
    "**Input**: Define the input\n",
    "\n",
    "**Output**: Define the output\n",
    "\n",
    "------"
   ]
  },
  {
   "cell_type": "markdown",
   "metadata": {},
   "source": [
    "##### Example Pseudocode - completely different algorithm - just use for formatting\n",
    "1. $bestcycle\\gets \\emptyset$\n",
    "2. $bestcost\\gets \\infty$\n",
    "3. **for all** possible cycles $p$ in $G$ (starting and ending at $0$) **do**\n",
    "4. $\\quad$ $c\\gets$ cost of $p$\n",
    "2. $\\quad$ **if** $c<bestcost$ **then**\n",
    "3. $\\qquad$ $bestcycle\\gets p$\n",
    "3. $\\qquad$ $bestcost\\gets c$\n",
    "4. $\\quad$ **end if**\n",
    "5. **end for**\n",
    "6. **return** $bestcycle, bestcost$"
   ]
  },
  {
   "cell_type": "markdown",
   "metadata": {},
   "source": [
    "### O Notation"
   ]
  },
  {
   "cell_type": "markdown",
   "metadata": {},
   "source": [
    "What is O Notation?\n",
    "\n",
    "How was it calculated from the Pseudocode?"
   ]
  },
  {
   "cell_type": "markdown",
   "metadata": {},
   "source": [
    "### Implementation"
   ]
  },
  {
   "cell_type": "markdown",
   "metadata": {},
   "source": [
    "How was this implemented?"
   ]
  },
  {
   "cell_type": "markdown",
   "metadata": {},
   "source": [
    "#### Inputs"
   ]
  },
  {
   "cell_type": "markdown",
   "metadata": {},
   "source": [
    "#### Code "
   ]
  },
  {
   "cell_type": "code",
   "execution_count": 10,
   "metadata": {},
   "outputs": [
    {
     "name": "stdout",
     "output_type": "stream",
     "text": [
      "Hello Assignment World!\n",
      "Simulated Annealing Code Here...\n"
     ]
    }
   ],
   "source": [
    "# Python Code Goes Here\n",
    "print(\"Hello Assignment World!\")\n",
    "print(\"Simulated Annealing Code Here...\")"
   ]
  },
  {
   "cell_type": "markdown",
   "metadata": {},
   "source": [
    "Is there anything unique about our code? Anything to comment on?"
   ]
  },
  {
   "cell_type": "markdown",
   "metadata": {},
   "source": [
    "### Data / Results"
   ]
  },
  {
   "cell_type": "markdown",
   "metadata": {},
   "source": [
    "Produce some graphs etc. to show how well it worked."
   ]
  },
  {
   "cell_type": "markdown",
   "metadata": {},
   "source": [
    "# Conclusion"
   ]
  },
  {
   "cell_type": "markdown",
   "metadata": {},
   "source": [
    "## How are we comparing?"
   ]
  },
  {
   "cell_type": "markdown",
   "metadata": {},
   "source": [
    "Quality vs Time. Sometimes it is acceptable to choose a perfect algorithm (if we have a long time to make the decision, or a very low input so that the time is so quick that it is insignificant), otherwise we may choose an imperfect, and even then we may have to choose on that is even more imperfect."
   ]
  },
  {
   "cell_type": "markdown",
   "metadata": {},
   "source": [
    "### Genetic"
   ]
  },
  {
   "cell_type": "markdown",
   "metadata": {},
   "source": [
    "Results Summary"
   ]
  },
  {
   "cell_type": "markdown",
   "metadata": {},
   "source": [
    "### Simulated Annealing"
   ]
  },
  {
   "cell_type": "markdown",
   "metadata": {},
   "source": [
    "Results Summary"
   ]
  },
  {
   "cell_type": "markdown",
   "metadata": {},
   "source": [
    "### Exhaustive / Greedy"
   ]
  },
  {
   "cell_type": "markdown",
   "metadata": {},
   "source": [
    "Results Summary"
   ]
  },
  {
   "cell_type": "markdown",
   "metadata": {},
   "source": [
    "## Comparison"
   ]
  },
  {
   "cell_type": "markdown",
   "metadata": {},
   "source": [
    "Graphs comparing the algorithms. What are the biggest differences?"
   ]
  },
  {
   "cell_type": "markdown",
   "metadata": {},
   "source": [
    "## Recommendation"
   ]
  },
  {
   "cell_type": "markdown",
   "metadata": {},
   "source": [
    "Which algorithm should be used, and when?"
   ]
  },
  {
   "cell_type": "markdown",
   "metadata": {},
   "source": [
    "Could show using an area graph."
   ]
  },
  {
   "cell_type": "markdown",
   "metadata": {},
   "source": [
    "# References"
   ]
  },
  {
   "cell_type": "markdown",
   "metadata": {},
   "source": [
    "* Gitari, N. et al. (2015)\n",
    "**A Lexicon-based Approach for Hate Speech Detection.**\n",
    "International Journal of Multimedia and Ubiquitous Engineering,10(4), pp.215-230.\n"
   ]
  }
 ],
 "metadata": {
  "kernelspec": {
   "display_name": "Python 3",
   "language": "python",
   "name": "python3"
  },
  "language_info": {
   "codemirror_mode": {
    "name": "ipython",
    "version": 3
   },
   "file_extension": ".py",
   "mimetype": "text/x-python",
   "name": "python",
   "nbconvert_exporter": "python",
   "pygments_lexer": "ipython3",
   "version": "3.7.6"
  }
 },
 "nbformat": 4,
 "nbformat_minor": 4
}
